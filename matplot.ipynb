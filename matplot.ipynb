{
 "cells": [
  {
   "cell_type": "code",
   "execution_count": 127,
   "id": "b044f744-3304-4d85-be02-2ec3e7cd8458",
   "metadata": {},
   "outputs": [],
   "source": [
    "import matplotlib.pyplot as plt\n",
    "import numpy as num\n"
   ]
  },
  {
   "cell_type": "code",
   "execution_count": 238,
   "id": "5f780531-c588-422a-8ebf-f3d3feba039b",
   "metadata": {
    "scrolled": true
   },
   "outputs": [],
   "source": [
    "my_file = open(r\"C:\\Users\\SEAN\\Downloads\\x_y_coordinates.txt\",\"r\")"
   ]
  },
  {
   "cell_type": "code",
   "execution_count": 165,
   "id": "acc8d358-baf3-4fc1-9bdb-1c150d2bc69f",
   "metadata": {},
   "outputs": [
    {
     "name": "stdout",
     "output_type": "stream",
     "text": [
      "ï»¿x, y\n",
      "-18.9686, 31.1668\n",
      "-17.8274, 31.0521\n",
      "-20.1505, 28.5845\n",
      "-19.8327, 32.7649\n",
      "-17.5222, 30.9737\n",
      "-18.3712, 26.4995\n",
      "-20.2901, 30.0582\n",
      "-16.5174, 28.7902\n",
      "-19.3458, 29.5485\n",
      "-17.9009, 25.8201\n",
      "-20.2739, 29.4214\n",
      "-18.9622, 31.0444\n",
      "-16.5261, 30.8099\n",
      "-19.3597, 30.8711\n",
      "-17.8136, 29.4608\n",
      "-19.7907, 31.0036\n",
      "-18.3141, 27.0326\n",
      "-19.4346, 29.8174\n",
      "-20.2277, 29.1534\n",
      "-17.3569, 30.1662\n"
     ]
    }
   ],
   "source": [
    "# Reading the file - Exhibit 1\n",
    "print(my_file.read())"
   ]
  },
  {
   "cell_type": "code",
   "execution_count": 169,
   "id": "36a7c163-a522-4bff-888e-11863039473e",
   "metadata": {
    "scrolled": true
   },
   "outputs": [
    {
     "name": "stdout",
     "output_type": "stream",
     "text": [
      "['ï»¿x, y\\n', '-18.9686, 31.1668\\n', '-17.8274, 31.0521\\n', '-20.1505, 28.5845\\n', '-19.8327, 32.7649\\n', '-17.5222, 30.9737\\n', '-18.3712, 26.4995\\n', '-20.2901, 30.0582\\n', '-16.5174, 28.7902\\n', '-19.3458, 29.5485\\n', '-17.9009, 25.8201\\n', '-20.2739, 29.4214\\n', '-18.9622, 31.0444\\n', '-16.5261, 30.8099\\n', '-19.3597, 30.8711\\n', '-17.8136, 29.4608\\n', '-19.7907, 31.0036\\n', '-18.3141, 27.0326\\n', '-19.4346, 29.8174\\n', '-20.2277, 29.1534\\n', '-17.3569, 30.1662']\n"
     ]
    }
   ],
   "source": [
    "# Reading the file - Exhibit 2 \n",
    "print(my_file.readlines())"
   ]
  },
  {
   "cell_type": "code",
   "execution_count": 157,
   "id": "9b37cd10-93a7-4cfe-a769-c663cbf331ee",
   "metadata": {},
   "outputs": [
    {
     "name": "stdout",
     "output_type": "stream",
     "text": [
      "ï»¿x, y\n",
      "\n"
     ]
    }
   ],
   "source": [
    "# Reading the file - Exhibit 3 \n",
    "print(my_file.readline())"
   ]
  },
  {
   "cell_type": "code",
   "execution_count": 175,
   "id": "bc5904c1-8a15-466e-a6ce-e06172d411d2",
   "metadata": {},
   "outputs": [
    {
     "name": "stdout",
     "output_type": "stream",
     "text": [
      "ï»¿x, y\n",
      "\n",
      "-18.9686, 31.1668\n",
      "\n",
      "-17.8274, 31.0521\n",
      "\n",
      "-20.1505, 28.5845\n",
      "\n",
      "-19.8327, 32.7649\n",
      "\n",
      "-17.5222, 30.9737\n",
      "\n",
      "-18.3712, 26.4995\n",
      "\n",
      "-20.2901, 30.0582\n",
      "\n",
      "-16.5174, 28.7902\n",
      "\n",
      "-19.3458, 29.5485\n",
      "\n",
      "-17.9009, 25.8201\n",
      "\n",
      "-20.2739, 29.4214\n",
      "\n",
      "-18.9622, 31.0444\n",
      "\n",
      "-16.5261, 30.8099\n",
      "\n",
      "-19.3597, 30.8711\n",
      "\n",
      "-17.8136, 29.4608\n",
      "\n",
      "-19.7907, 31.0036\n",
      "\n",
      "-18.3141, 27.0326\n",
      "\n",
      "-19.4346, 29.8174\n",
      "\n",
      "-20.2277, 29.1534\n",
      "\n",
      "-17.3569, 30.1662\n"
     ]
    }
   ],
   "source": [
    "# Looping through the lines \n",
    "for line in my_file.readlines():\n",
    "    print(line)"
   ]
  },
  {
   "cell_type": "code",
   "execution_count": 179,
   "id": "3a935f05-13f0-46ab-a66b-520e2794607e",
   "metadata": {},
   "outputs": [
    {
     "name": "stdout",
     "output_type": "stream",
     "text": [
      "['ï»¿x', 'y\\n']\n",
      "['-18.9686', '31.1668\\n']\n",
      "['-17.8274', '31.0521\\n']\n",
      "['-20.1505', '28.5845\\n']\n",
      "['-19.8327', '32.7649\\n']\n",
      "['-17.5222', '30.9737\\n']\n",
      "['-18.3712', '26.4995\\n']\n",
      "['-20.2901', '30.0582\\n']\n",
      "['-16.5174', '28.7902\\n']\n",
      "['-19.3458', '29.5485\\n']\n",
      "['-17.9009', '25.8201\\n']\n",
      "['-20.2739', '29.4214\\n']\n",
      "['-18.9622', '31.0444\\n']\n",
      "['-16.5261', '30.8099\\n']\n",
      "['-19.3597', '30.8711\\n']\n",
      "['-17.8136', '29.4608\\n']\n",
      "['-19.7907', '31.0036\\n']\n",
      "['-18.3141', '27.0326\\n']\n",
      "['-19.4346', '29.8174\\n']\n",
      "['-20.2277', '29.1534\\n']\n",
      "['-17.3569', '30.1662']\n"
     ]
    }
   ],
   "source": [
    "# splitting columns \n",
    "for line in my_file.readlines():\n",
    "    print(line.split(', '))"
   ]
  },
  {
   "cell_type": "code",
   "execution_count": 183,
   "id": "f12cea66-28aa-474d-9640-5e1060a8ff1a",
   "metadata": {},
   "outputs": [
    {
     "name": "stdout",
     "output_type": "stream",
     "text": [
      "ï»¿x\n",
      "-18.9686\n",
      "-17.8274\n",
      "-20.1505\n",
      "-19.8327\n",
      "-17.5222\n",
      "-18.3712\n",
      "-20.2901\n",
      "-16.5174\n",
      "-19.3458\n",
      "-17.9009\n",
      "-20.2739\n",
      "-18.9622\n",
      "-16.5261\n",
      "-19.3597\n",
      "-17.8136\n",
      "-19.7907\n",
      "-18.3141\n",
      "-19.4346\n",
      "-20.2277\n",
      "-17.3569\n"
     ]
    }
   ],
   "source": [
    "# Split columns and index \n",
    "for line in my_file.readlines():\n",
    "    print(line.split(', ')[0])"
   ]
  },
  {
   "cell_type": "code",
   "execution_count": 187,
   "id": "5ff67e73-88e8-46ef-9f84-18d4f4d0c722",
   "metadata": {},
   "outputs": [],
   "source": [
    "# Place Coordinates into Separate Lists \n",
    "\n",
    "\n",
    "# Create two empty lists. One for x and another for y coordinates \n",
    "x_coords = []\n",
    "y_coords = []\n",
    "\n",
    "# Read first line to skip the file header \n",
    "my_file.readline()\n",
    "\n",
    "# read the remaining lines with coordinates \n",
    "for line in my_file.readlines():\n",
    "    # first element goes to x list\n",
    "    x_coords.append(line.split(', ')[0]) # => use the index value zero \n",
    "    # second element goes to y list\n",
    "    y_coords.append(line.split(', ')[1]) # => use the index value one "
   ]
  },
  {
   "cell_type": "code",
   "execution_count": 191,
   "id": "44c57a08-340b-499f-a053-a873ef5e8f8a",
   "metadata": {},
   "outputs": [
    {
     "name": "stdout",
     "output_type": "stream",
     "text": [
      "-18.9686\n",
      "-17.8274\n",
      "-20.1505\n",
      "-19.8327\n",
      "-17.5222\n",
      "-18.3712\n",
      "-20.2901\n",
      "-16.5174\n",
      "-19.3458\n",
      "-17.9009\n",
      "-20.2739\n",
      "-18.9622\n",
      "-16.5261\n",
      "-19.3597\n",
      "-17.8136\n",
      "-19.7907\n",
      "-18.3141\n",
      "-19.4346\n",
      "-20.2277\n",
      "-17.3569\n"
     ]
    }
   ],
   "source": [
    "# loop through the new list to see its elements \n",
    "for item in x_coords:\n",
    "    print(item) "
   ]
  },
  {
   "cell_type": "code",
   "execution_count": 195,
   "id": "a0a14c7a-e3a2-4e47-815f-7814fed04343",
   "metadata": {},
   "outputs": [
    {
     "name": "stdout",
     "output_type": "stream",
     "text": [
      "<class 'str'>\n"
     ]
    }
   ],
   "source": [
    "# check the data type for our list \n",
    "print(type(x_coords[0]))"
   ]
  },
  {
   "cell_type": "code",
   "execution_count": 203,
   "id": "f6896d09-07e4-48f9-b017-3f95767fd194",
   "metadata": {},
   "outputs": [],
   "source": [
    "# Parse the coordinates as float data type (from string)\n",
    "\n",
    "# Create two empty lists. One for x and another for y coordinates \n",
    "x_coords = []\n",
    "y_coords = []\n",
    "\n",
    "# Read first line to skip the file header \n",
    "my_file.readline()\n",
    "\n",
    "# read the remaining lines with coordinates \n",
    "for line in my_file.readlines():\n",
    "    # first element goes to x list\n",
    "    x_coords.append(float(line.split(', ')[0])) # => use the index value zero \n",
    "    # second element goes to y list\n",
    "    y_coords.append(float(line.split(', ')[1])) # => use the index value one "
   ]
  },
  {
   "cell_type": "code",
   "execution_count": 207,
   "id": "74814a0f-d40c-4eaa-94e3-b9ee915e736c",
   "metadata": {},
   "outputs": [
    {
     "name": "stdout",
     "output_type": "stream",
     "text": [
      "<class 'float'>\n"
     ]
    }
   ],
   "source": [
    "print(type(x_coords[0]))"
   ]
  },
  {
   "cell_type": "code",
   "execution_count": 211,
   "id": "0ae46e0d-be12-4edd-a329-f56e2f647981",
   "metadata": {},
   "outputs": [],
   "source": [
    "# Generating the scatter plot \n",
    "\n",
    "# import the pyplot module \n",
    "import matplotlib.pyplot as plt "
   ]
  },
  {
   "cell_type": "code",
   "execution_count": 213,
   "id": "7d00891d-d629-40a2-ab78-29c9d3394e01",
   "metadata": {},
   "outputs": [
    {
     "data": {
      "image/png": "[encoded data removed]",
      "text/plain": [
       "<Figure size 640x480 with 1 Axes>"
      ]
     },
     "metadata": {},
     "output_type": "display_data"
    }
   ],
   "source": [
    "# The actual plot now \n",
    "\n",
    "# Generate the scatter plot \n",
    "plt.scatter(x_coords, y_coords)\n",
    "\n",
    "# display \n",
    "plt.show()"
   ]
  },
  {
   "cell_type": "code",
   "execution_count": 223,
   "id": "a5d3c553-560c-497a-8588-74c96eb04baa",
   "metadata": {},
   "outputs": [],
   "source": [
    "import pandas as pd\n",
    "import matplotlib.pyplot as plt\n"
   ]
  },
  {
   "cell_type": "code",
   "execution_count": 236,
   "id": "9103e706-2d09-416e-bf8e-8a886d4017ba",
   "metadata": {},
   "outputs": [],
   "source": [
    "\n",
    "def plot_data(file):\n",
    "  \n",
    "    # Read the file into a DataFrame\n",
    "    data = pd.read_csv(file)\n",
    "     # Check if there are at least two columns\n",
    "    if data.shape[1] < 2:\n",
    "        raise ValueError(\"Data file must contain at least two columns for x and y coordinates.\")"
   ]
  },
  {
   "cell_type": "code",
   "execution_count": 240,
   "id": "74097c44-bdc4-4631-ac26-77716644e9c5",
   "metadata": {},
   "outputs": [
    {
     "ename": "NameError",
     "evalue": "name 'data' is not defined",
     "output_type": "error",
     "traceback": [
      "\u001b[1;31m---------------------------------------------------------------------------\u001b[0m",
      "\u001b[1;31mNameError\u001b[0m                                 Traceback (most recent call last)",
      "Cell \u001b[1;32mIn[240], line 2\u001b[0m\n\u001b[0;32m      1\u001b[0m \u001b[38;5;66;03m# Extract the first two columns for plotting\u001b[39;00m\n\u001b[1;32m----> 2\u001b[0m x \u001b[38;5;241m=\u001b[39m data\u001b[38;5;241m.\u001b[39miloc[:, \u001b[38;5;241m0\u001b[39m]\n\u001b[0;32m      3\u001b[0m y \u001b[38;5;241m=\u001b[39m data\u001b[38;5;241m.\u001b[39miloc[:, \u001b[38;5;241m1\u001b[39m]\n\u001b[0;32m      5\u001b[0m \u001b[38;5;66;03m# Plot\u001b[39;00m\n",
      "\u001b[1;31mNameError\u001b[0m: name 'data' is not defined"
     ]
    }
   ],
   "source": [
    "  \n",
    "    # Extract the first two columns for plotting\n",
    "    x = data.iloc[:, 0]\n",
    "    y = data.iloc[:, 1]\n",
    "    \n",
    "    # Plot\n",
    "    plt.figure(figsize=(8, 6))\n",
    "    plt.scatter(x, y, c='blue', edgecolor='k')\n",
    "    plt.xlabel('X-axis')\n",
    "    plt.ylabel('Y-axis')\n",
    "    plt.title('Scatter Plot of Data')\n",
    "    plt.grid(True)\n",
    "    plt.show()\n"
   ]
  },
  {
   "cell_type": "code",
   "execution_count": 242,
   "id": "3de5535f-10c9-4e52-9f70-a06a7fbcb624",
   "metadata": {},
   "outputs": [
    {
     "ename": "NameError",
     "evalue": "name 'PlotData' is not defined",
     "output_type": "error",
     "traceback": [
      "\u001b[1;31m---------------------------------------------------------------------------\u001b[0m",
      "\u001b[1;31mNameError\u001b[0m                                 Traceback (most recent call last)",
      "Cell \u001b[1;32mIn[242], line 2\u001b[0m\n\u001b[0;32m      1\u001b[0m \u001b[38;5;28;01mwith\u001b[39;00m \u001b[38;5;28mopen\u001b[39m(\u001b[38;5;124m\"\u001b[39m\u001b[38;5;124mC:\u001b[39m\u001b[38;5;130;01m\\\\\u001b[39;00m\u001b[38;5;124mUsers\u001b[39m\u001b[38;5;130;01m\\\\\u001b[39;00m\u001b[38;5;124mSEAN\u001b[39m\u001b[38;5;130;01m\\\\\u001b[39;00m\u001b[38;5;124mDownloads\u001b[39m\u001b[38;5;130;01m\\\\\u001b[39;00m\u001b[38;5;124mx_y_coordinates.txt\u001b[39m\u001b[38;5;124m\"\u001b[39m, \u001b[38;5;124m\"\u001b[39m\u001b[38;5;124mr\u001b[39m\u001b[38;5;124m\"\u001b[39m) \u001b[38;5;28;01mas\u001b[39;00m file:\n\u001b[1;32m----> 2\u001b[0m     plotter \u001b[38;5;241m=\u001b[39m PlotData(file)\n\u001b[0;32m      3\u001b[0m     plotter\u001b[38;5;241m.\u001b[39mread_data()  \u001b[38;5;66;03m# Load the data from the file\u001b[39;00m\n\u001b[0;32m      4\u001b[0m     plotter\u001b[38;5;241m.\u001b[39mplot()\n",
      "\u001b[1;31mNameError\u001b[0m: name 'PlotData' is not defined"
     ]
    }
   ],
   "source": [
    "with open(\"C:\\\\Users\\\\SEAN\\\\Downloads\\\\x_y_coordinates.txt\", \"r\") as file:\n",
    "    plotter = PlotData(file)\n",
    "    plotter.read_data()  # Load the data from the file\n",
    "    plotter.plot()  "
   ]
  },
  {
   "cell_type": "code",
   "execution_count": null,
   "id": "b7793d24-c943-4182-8568-f45d623d4ae3",
   "metadata": {},
   "outputs": [],
   "source": []
  }
 ],
 "metadata": {
  "kernelspec": {
   "display_name": "Python 3 (ipykernel)",
   "language": "python",
   "name": "python3"
  },
  "language_info": {
   "codemirror_mode": {
    "name": "ipython",
    "version": 3
   },
   "file_extension": ".py",
   "mimetype": "text/x-python",
   "name": "python",
   "nbconvert_exporter": "python",
   "pygments_lexer": "ipython3",
   "version": "3.12.4"
  }
 },
 "nbformat": 4,
 "nbformat_minor": 5
}
